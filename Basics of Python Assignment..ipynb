{
 "cells": [
  {
   "cell_type": "markdown",
   "id": "07aaed1e",
   "metadata": {},
   "source": [
    "# Exercise 1: Prime Numbers"
   ]
  },
  {
   "cell_type": "raw",
   "id": "9868d43a",
   "metadata": {},
   "source": [
    "# Write a Python program that checks whether a given number is prime or not. A prime number is a natural number greater than 1 that has no positive divisors other than 1 and itself. "
   ]
  },
  {
   "cell_type": "code",
   "execution_count": 1,
   "id": "06e35abb",
   "metadata": {},
   "outputs": [
    {
     "name": "stdout",
     "output_type": "stream",
     "text": [
      "Enter a number: 5\n",
      "5 is a prime number.\n"
     ]
    }
   ],
   "source": [
    "from sympy import isprime\n",
    "\n",
    "# Input from user\n",
    "number = int(input(\"Enter a number: \"))\n",
    "\n",
    "# Check if the number is prime using sympy\n",
    "if isprime(number):\n",
    "    print(f\"{number} is a prime number.\")\n",
    "else:\n",
    "    print(f\"{number} is not a prime number.\")\n"
   ]
  },
  {
   "cell_type": "markdown",
   "id": "dfe57107",
   "metadata": {},
   "source": [
    "# Exercise 2: Product of Random Numbers"
   ]
  },
  {
   "cell_type": "raw",
   "id": "aa4049ab",
   "metadata": {},
   "source": [
    "# Develop a Python program that generates two random numbers and asks the user to enter the product of these numbers. The program should then check if the user's answer is correct and display an appropriate message."
   ]
  },
  {
   "cell_type": "code",
   "execution_count": 2,
   "id": "a3e1c38d",
   "metadata": {},
   "outputs": [
    {
     "name": "stdout",
     "output_type": "stream",
     "text": [
      "What is the product of 2 and 3? 5\n",
      "Incorrect. The correct answer is 6.\n"
     ]
    }
   ],
   "source": [
    "import random\n",
    "\n",
    "def generate_random_numbers():\n",
    "# Generate two random numbers between 1 and 10.\n",
    "    num1 = random.randint(1, 10)\n",
    "    num2 = random.randint(1, 10)\n",
    "    return num1, num2\n",
    "\n",
    "def get_user_input(num1, num2):\n",
    "# Prompt the user to enter the product of num1 and num2.\n",
    "    user_input = int(input(f\"What is the product of {num1} and {num2}? \"))\n",
    "    return user_input\n",
    "\n",
    "def check_answer(num1, num2, user_input):\n",
    "# Check if the user's answer is correct.\n",
    "    correct_answer = num1 * num2\n",
    "    if user_input == correct_answer:\n",
    "        print(\"Correct! Answer well done.\")\n",
    "    else:\n",
    "        print(f\"Incorrect. The correct answer is {correct_answer}.\")\n",
    "\n",
    "def anand():\n",
    "    num1, num2 = generate_random_numbers()\n",
    "    user_input = get_user_input(num1, num2)\n",
    "    check_answer(num1, num2, user_input)\n",
    "\n",
    "if __name__ == \"__main__\":\n",
    "    anand()\n"
   ]
  },
  {
   "cell_type": "markdown",
   "id": "a1ffae8a",
   "metadata": {},
   "source": [
    "# Exercise 3: Squares of Even/Odd Numbers"
   ]
  },
  {
   "cell_type": "raw",
   "id": "63c56f95",
   "metadata": {},
   "source": [
    "# Create a Python script that prints the squares of all even or odd numbers within the range of 100 to 200. Choose either even or odd numbers and document your choice in the code."
   ]
  },
  {
   "cell_type": "code",
   "execution_count": 3,
   "id": "083b37d6",
   "metadata": {},
   "outputs": [
    {
     "name": "stdout",
     "output_type": "stream",
     "text": [
      "The square of 100 is 10000\n",
      "The square of 102 is 10404\n",
      "The square of 104 is 10816\n",
      "The square of 106 is 11236\n",
      "The square of 108 is 11664\n",
      "The square of 110 is 12100\n",
      "The square of 112 is 12544\n",
      "The square of 114 is 12996\n",
      "The square of 116 is 13456\n",
      "The square of 118 is 13924\n",
      "The square of 120 is 14400\n",
      "The square of 122 is 14884\n",
      "The square of 124 is 15376\n",
      "The square of 126 is 15876\n",
      "The square of 128 is 16384\n",
      "The square of 130 is 16900\n",
      "The square of 132 is 17424\n",
      "The square of 134 is 17956\n",
      "The square of 136 is 18496\n",
      "The square of 138 is 19044\n",
      "The square of 140 is 19600\n",
      "The square of 142 is 20164\n",
      "The square of 144 is 20736\n",
      "The square of 146 is 21316\n",
      "The square of 148 is 21904\n",
      "The square of 150 is 22500\n",
      "The square of 152 is 23104\n",
      "The square of 154 is 23716\n",
      "The square of 156 is 24336\n",
      "The square of 158 is 24964\n",
      "The square of 160 is 25600\n",
      "The square of 162 is 26244\n",
      "The square of 164 is 26896\n",
      "The square of 166 is 27556\n",
      "The square of 168 is 28224\n",
      "The square of 170 is 28900\n",
      "The square of 172 is 29584\n",
      "The square of 174 is 30276\n",
      "The square of 176 is 30976\n",
      "The square of 178 is 31684\n",
      "The square of 180 is 32400\n",
      "The square of 182 is 33124\n",
      "The square of 184 is 33856\n",
      "The square of 186 is 34596\n",
      "The square of 188 is 35344\n",
      "The square of 190 is 36100\n",
      "The square of 192 is 36864\n",
      "The square of 194 is 37636\n",
      "The square of 196 is 38416\n",
      "The square of 198 is 39204\n",
      "The square of 200 is 40000\n"
     ]
    }
   ],
   "source": [
    "# Choice: Even numbers\n",
    "\n",
    "def print_even_squares(start, end):\n",
    "# Prints the squares of all even numbers within the given range.\n",
    "    for number in range(start, end + 1):\n",
    "        if number % 2 == 0:\n",
    "            print(f\"The square of {number} is {number ** 2}\")\n",
    "\n",
    "# Define the range\n",
    "start = 100\n",
    "end = 200\n",
    "\n",
    "# Call the function to print squares of even numbers\n",
    "print_even_squares(start, end)\n"
   ]
  },
  {
   "cell_type": "markdown",
   "id": "fa6822a4",
   "metadata": {},
   "source": [
    "# Exercise 4: Word counter"
   ]
  },
  {
   "cell_type": "raw",
   "id": "a257a4dd",
   "metadata": {},
   "source": [
    "# write a program to count the number of words in a given text. "
   ]
  },
  {
   "cell_type": "code",
   "execution_count": 4,
   "id": "f27933f2",
   "metadata": {},
   "outputs": [
    {
     "name": "stdout",
     "output_type": "stream",
     "text": [
      "'this': 2\n",
      "'is': 1\n",
      "'a': 1\n",
      "'sample': 1\n",
      "'text': 2\n",
      "'will': 1\n",
      "'be': 1\n",
      "'used': 1\n",
      "'to': 1\n",
      "'demonstrate': 1\n",
      "'the': 1\n",
      "'word': 1\n",
      "'counter': 1\n"
     ]
    }
   ],
   "source": [
    "from collections import Counter\n",
    "import re\n",
    "\n",
    "def count_words(input_text):\n",
    "# Count the number of occurrences of each word in the input text.\"\"\"\n",
    "    # Remove punctuation and convert to lower case\n",
    "    words = re.findall(r'\\b\\w+\\b', input_text.lower())\n",
    "    \n",
    "    # Count the occurrences of each word\n",
    "    word_counts = Counter(words)\n",
    "    \n",
    "    # Print the word counts\n",
    "    for word, count in word_counts.items():\n",
    "        print(f\"'{word}': {count}\")\n",
    "\n",
    "# Example input text\n",
    "input_text = \"This is a sample text. This text will be used to demonstrate the word counter.\"\n",
    "\n",
    "# Call the function to count words\n",
    "count_words(input_text)\n"
   ]
  },
  {
   "cell_type": "markdown",
   "id": "50372046",
   "metadata": {},
   "source": [
    "# Exercise 5: Check for Palindrome"
   ]
  },
  {
   "cell_type": "raw",
   "id": "44bfb541",
   "metadata": {},
   "source": [
    "# Write a Python function called is_palindrome that takes a string as input and returns True if the string is a palindrome, and False otherwise. A palindrome is a word, phrase, number, or other sequence of characters that reads the same forward and backward, ignoring spaces, punctuation, and capitalization."
   ]
  },
  {
   "cell_type": "code",
   "execution_count": 5,
   "id": "4a1bd4b7",
   "metadata": {},
   "outputs": [
    {
     "name": "stdout",
     "output_type": "stream",
     "text": [
      "True\n",
      "True\n",
      "True\n",
      "False\n"
     ]
    }
   ],
   "source": [
    "import re\n",
    "\n",
    "def is_palindrome(s):\n",
    "    \"\"\"Check if a string is a palindrome, ignoring spaces, punctuation, and capitalization.\"\"\"\n",
    "    # Remove all non-alphanumeric characters and convert to lower case\n",
    "    cleaned = re.sub(r'[^A-Za-z0-9]', '', s).lower()\n",
    "    \n",
    "    # Check if the cleaned string is equal to its reverse\n",
    "    return cleaned == cleaned[::-1]\n",
    "\n",
    "# Example usage\n",
    "input_string = \"racecar\"\n",
    "print(is_palindrome(input_string))  # Output: True\n",
    "\n",
    "# Additional test cases\n",
    "print(is_palindrome(\"A man, a plan, a canal, Panama\"))  # Output: True\n",
    "print(is_palindrome(\"No lemon, no melon\"))              # Output: True\n",
    "print(is_palindrome(\"Hello, World!\"))                   # Output: False\n"
   ]
  },
  {
   "cell_type": "markdown",
   "id": "d1ba326e",
   "metadata": {},
   "source": [
    "# End Assignment"
   ]
  }
 ],
 "metadata": {
  "kernelspec": {
   "display_name": "Python 3 (ipykernel)",
   "language": "python",
   "name": "python3"
  },
  "language_info": {
   "codemirror_mode": {
    "name": "ipython",
    "version": 3
   },
   "file_extension": ".py",
   "mimetype": "text/x-python",
   "name": "python",
   "nbconvert_exporter": "python",
   "pygments_lexer": "ipython3",
   "version": "3.11.5"
  }
 },
 "nbformat": 4,
 "nbformat_minor": 5
}
